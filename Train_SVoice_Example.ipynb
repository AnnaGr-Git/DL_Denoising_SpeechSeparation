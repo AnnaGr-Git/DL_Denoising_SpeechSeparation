{
  "nbformat": 4,
  "nbformat_minor": 0,
  "metadata": {
    "colab": {
      "provenance": []
    },
    "kernelspec": {
      "name": "python3",
      "display_name": "Python 3"
    },
    "language_info": {
      "name": "python"
    },
    "accelerator": "GPU",
    "gpuClass": "standard"
  },
  "cells": [
    {
      "cell_type": "code",
      "execution_count": null,
      "metadata": {
        "colab": {
          "base_uri": "https://localhost:8080/"
        },
        "id": "1oW5cGWam4of",
        "outputId": "111dafd2-a75f-4d7b-eba4-48da9a810afe"
      },
      "outputs": [
        {
          "output_type": "stream",
          "name": "stdout",
          "text": [
            "Cloning into 'svoice'...\n",
            "remote: Enumerating objects: 156, done.\u001b[K\n",
            "remote: Total 156 (delta 0), reused 0 (delta 0), pack-reused 156\u001b[K\n",
            "Receiving objects: 100% (156/156), 2.69 MiB | 31.34 MiB/s, done.\n",
            "Resolving deltas: 100% (51/51), done.\n"
          ]
        }
      ],
      "source": [
        "!git clone https://github.com/facebookresearch/svoice"
      ]
    },
    {
      "cell_type": "code",
      "source": [
        "%cd svoice"
      ],
      "metadata": {
        "colab": {
          "base_uri": "https://localhost:8080/"
        },
        "id": "Mn5BsbwHm6jg",
        "outputId": "fc8f0231-826b-4cfe-ab40-91d701186d90"
      },
      "execution_count": null,
      "outputs": [
        {
          "output_type": "stream",
          "name": "stdout",
          "text": [
            "/content/svoice\n"
          ]
        }
      ]
    },
    {
      "cell_type": "code",
      "source": [
        "!pip install torch==1.6.0+cu101 torchvision==0.7.0+cu101 -f https://download.pytorch.org/whl/torch_stable.html\n",
        "!pip install -r requirements.txt  "
      ],
      "metadata": {
        "colab": {
          "base_uri": "https://localhost:8080/",
          "height": 1000
        },
        "id": "4Cp7xYoIwjTt",
        "outputId": "667ea503-7ca8-4607-a6ad-01a99824a093"
      },
      "execution_count": null,
      "outputs": [
        {
          "output_type": "stream",
          "name": "stdout",
          "text": [
            "Looking in indexes: https://pypi.org/simple, https://us-python.pkg.dev/colab-wheels/public/simple/\n",
            "Looking in links: https://download.pytorch.org/whl/torch_stable.html\n",
            "Collecting torch==1.6.0+cu101\n",
            "  Downloading https://download.pytorch.org/whl/cu101/torch-1.6.0%2Bcu101-cp37-cp37m-linux_x86_64.whl (708.0 MB)\n",
            "\u001b[K     |████████████████████████████████| 708.0 MB 10 kB/s \n",
            "\u001b[?25hCollecting torchvision==0.7.0+cu101\n",
            "  Downloading https://download.pytorch.org/whl/cu101/torchvision-0.7.0%2Bcu101-cp37-cp37m-linux_x86_64.whl (5.9 MB)\n",
            "\u001b[K     |████████████████████████████████| 5.9 MB 51.1 MB/s \n",
            "\u001b[?25hRequirement already satisfied: future in /usr/local/lib/python3.7/dist-packages (from torch==1.6.0+cu101) (0.16.0)\n",
            "Requirement already satisfied: numpy in /usr/local/lib/python3.7/dist-packages (from torch==1.6.0+cu101) (1.21.6)\n",
            "Requirement already satisfied: pillow>=4.1.1 in /usr/local/lib/python3.7/dist-packages (from torchvision==0.7.0+cu101) (7.1.2)\n",
            "Installing collected packages: torch, torchvision\n",
            "  Attempting uninstall: torch\n",
            "    Found existing installation: torch 1.12.1+cu113\n",
            "    Uninstalling torch-1.12.1+cu113:\n",
            "      Successfully uninstalled torch-1.12.1+cu113\n",
            "  Attempting uninstall: torchvision\n",
            "    Found existing installation: torchvision 0.13.1+cu113\n",
            "    Uninstalling torchvision-0.13.1+cu113:\n",
            "      Successfully uninstalled torchvision-0.13.1+cu113\n",
            "\u001b[31mERROR: pip's dependency resolver does not currently take into account all the packages that are installed. This behaviour is the source of the following dependency conflicts.\n",
            "torchtext 0.13.1 requires torch==1.12.1, but you have torch 1.6.0+cu101 which is incompatible.\n",
            "torchaudio 0.12.1+cu113 requires torch==1.12.1, but you have torch 1.6.0+cu101 which is incompatible.\n",
            "fastai 2.7.10 requires torch<1.14,>=1.7, but you have torch 1.6.0+cu101 which is incompatible.\n",
            "fastai 2.7.10 requires torchvision>=0.8.2, but you have torchvision 0.7.0+cu101 which is incompatible.\u001b[0m\n",
            "Successfully installed torch-1.6.0+cu101 torchvision-0.7.0+cu101\n",
            "Looking in indexes: https://pypi.org/simple, https://us-python.pkg.dev/colab-wheels/public/simple/\n",
            "Collecting pesq==0.0.2\n",
            "  Downloading pesq-0.0.2.tar.gz (34 kB)\n",
            "Collecting numpy==1.19.4\n",
            "  Downloading numpy-1.19.4-cp37-cp37m-manylinux2010_x86_64.whl (14.5 MB)\n",
            "\u001b[K     |████████████████████████████████| 14.5 MB 26.5 MB/s \n",
            "\u001b[?25hCollecting tqdm==4.51.0\n",
            "  Downloading tqdm-4.51.0-py2.py3-none-any.whl (70 kB)\n",
            "\u001b[K     |████████████████████████████████| 70 kB 11.6 MB/s \n",
            "\u001b[?25hCollecting hydra_core==1.0.3\n",
            "  Downloading hydra_core-1.0.3-py3-none-any.whl (122 kB)\n",
            "\u001b[K     |████████████████████████████████| 122 kB 64.0 MB/s \n",
            "\u001b[?25hCollecting hydra_colorlog==1.0.0\n",
            "  Downloading hydra_colorlog-1.0.0-py3-none-any.whl (3.6 kB)\n",
            "Collecting pystoi==0.3.3\n",
            "  Downloading pystoi-0.3.3.tar.gz (7.0 kB)\n",
            "Collecting torchaudio==0.6.0\n",
            "  Downloading torchaudio-0.6.0-cp37-cp37m-manylinux1_x86_64.whl (6.8 MB)\n",
            "\u001b[K     |████████████████████████████████| 6.8 MB 15.8 MB/s \n",
            "\u001b[?25hCollecting librosa==0.7.1\n",
            "  Downloading librosa-0.7.1.tar.gz (1.6 MB)\n",
            "\u001b[K     |████████████████████████████████| 1.6 MB 53.5 MB/s \n",
            "\u001b[?25hCollecting numba==0.48\n",
            "  Downloading numba-0.48.0-1-cp37-cp37m-manylinux2014_x86_64.whl (3.5 MB)\n",
            "\u001b[K     |████████████████████████████████| 3.5 MB 49.4 MB/s \n",
            "\u001b[?25hCollecting antlr4-python3-runtime==4.8\n",
            "  Downloading antlr4-python3-runtime-4.8.tar.gz (112 kB)\n",
            "\u001b[K     |████████████████████████████████| 112 kB 69.7 MB/s \n",
            "\u001b[?25hCollecting omegaconf>=2.0.2\n",
            "  Downloading omegaconf-2.2.3-py3-none-any.whl (79 kB)\n",
            "\u001b[K     |████████████████████████████████| 79 kB 8.6 MB/s \n",
            "\u001b[?25hRequirement already satisfied: importlib-resources in /usr/local/lib/python3.7/dist-packages (from hydra_core==1.0.3->-r requirements.txt (line 4)) (5.10.0)\n",
            "Collecting colorlog\n",
            "  Downloading colorlog-6.7.0-py2.py3-none-any.whl (11 kB)\n",
            "Requirement already satisfied: scipy in /usr/local/lib/python3.7/dist-packages (from pystoi==0.3.3->-r requirements.txt (line 6)) (1.7.3)\n",
            "Requirement already satisfied: torch==1.6.0 in /usr/local/lib/python3.7/dist-packages (from torchaudio==0.6.0->-r requirements.txt (line 7)) (1.6.0+cu101)\n",
            "Requirement already satisfied: audioread>=2.0.0 in /usr/local/lib/python3.7/dist-packages (from librosa==0.7.1->-r requirements.txt (line 8)) (3.0.0)\n",
            "Requirement already satisfied: scikit-learn!=0.19.0,>=0.14.0 in /usr/local/lib/python3.7/dist-packages (from librosa==0.7.1->-r requirements.txt (line 8)) (1.0.2)\n",
            "Requirement already satisfied: joblib>=0.12 in /usr/local/lib/python3.7/dist-packages (from librosa==0.7.1->-r requirements.txt (line 8)) (1.2.0)\n",
            "Requirement already satisfied: decorator>=3.0.0 in /usr/local/lib/python3.7/dist-packages (from librosa==0.7.1->-r requirements.txt (line 8)) (4.4.2)\n",
            "Requirement already satisfied: six>=1.3 in /usr/local/lib/python3.7/dist-packages (from librosa==0.7.1->-r requirements.txt (line 8)) (1.15.0)\n",
            "Requirement already satisfied: resampy>=0.2.2 in /usr/local/lib/python3.7/dist-packages (from librosa==0.7.1->-r requirements.txt (line 8)) (0.4.2)\n",
            "Requirement already satisfied: soundfile>=0.9.0 in /usr/local/lib/python3.7/dist-packages (from librosa==0.7.1->-r requirements.txt (line 8)) (0.11.0)\n",
            "Collecting llvmlite<0.32.0,>=0.31.0dev0\n",
            "  Downloading llvmlite-0.31.0-cp37-cp37m-manylinux1_x86_64.whl (20.2 MB)\n",
            "\u001b[K     |████████████████████████████████| 20.2 MB 107 kB/s \n",
            "\u001b[?25hRequirement already satisfied: setuptools in /usr/local/lib/python3.7/dist-packages (from numba==0.48->-r requirements.txt (line 9)) (57.4.0)\n",
            "Requirement already satisfied: future in /usr/local/lib/python3.7/dist-packages (from torch==1.6.0->torchaudio==0.6.0->-r requirements.txt (line 7)) (0.16.0)\n",
            "Requirement already satisfied: PyYAML>=5.1.0 in /usr/local/lib/python3.7/dist-packages (from omegaconf>=2.0.2->hydra_core==1.0.3->-r requirements.txt (line 4)) (6.0)\n",
            "Collecting omegaconf>=2.0.2\n",
            "  Downloading omegaconf-2.2.2-py3-none-any.whl (79 kB)\n",
            "\u001b[K     |████████████████████████████████| 79 kB 9.3 MB/s \n",
            "\u001b[?25h  Downloading omegaconf-2.2.1-py3-none-any.whl (78 kB)\n",
            "\u001b[K     |████████████████████████████████| 78 kB 9.9 MB/s \n",
            "\u001b[?25h  Downloading omegaconf-2.1.2-py3-none-any.whl (74 kB)\n",
            "\u001b[K     |████████████████████████████████| 74 kB 4.4 MB/s \n",
            "\u001b[?25hCollecting resampy>=0.2.2\n",
            "  Downloading resampy-0.4.1-py3-none-any.whl (3.1 MB)\n",
            "\u001b[K     |████████████████████████████████| 3.1 MB 50.9 MB/s \n",
            "\u001b[?25h  Downloading resampy-0.4.0-py3-none-any.whl (3.1 MB)\n",
            "\u001b[K     |████████████████████████████████| 3.1 MB 60.0 MB/s \n",
            "\u001b[?25h  Downloading resampy-0.3.1-py3-none-any.whl (3.1 MB)\n",
            "\u001b[K     |████████████████████████████████| 3.1 MB 58.7 MB/s \n",
            "\u001b[?25hRequirement already satisfied: threadpoolctl>=2.0.0 in /usr/local/lib/python3.7/dist-packages (from scikit-learn!=0.19.0,>=0.14.0->librosa==0.7.1->-r requirements.txt (line 8)) (3.1.0)\n",
            "Requirement already satisfied: cffi>=1.0 in /usr/local/lib/python3.7/dist-packages (from soundfile>=0.9.0->librosa==0.7.1->-r requirements.txt (line 8)) (1.15.1)\n",
            "Requirement already satisfied: pycparser in /usr/local/lib/python3.7/dist-packages (from cffi>=1.0->soundfile>=0.9.0->librosa==0.7.1->-r requirements.txt (line 8)) (2.21)\n",
            "Requirement already satisfied: zipp>=3.1.0 in /usr/local/lib/python3.7/dist-packages (from importlib-resources->hydra_core==1.0.3->-r requirements.txt (line 4)) (3.10.0)\n",
            "Building wheels for collected packages: pesq, pystoi, librosa, antlr4-python3-runtime\n",
            "  Building wheel for pesq (setup.py) ... \u001b[?25l\u001b[?25hdone\n",
            "  Created wheel for pesq: filename=pesq-0.0.2-cp37-cp37m-linux_x86_64.whl size=162467 sha256=2309f294548270fd69b46b930a7741758e622a4c07e57a8dde551d90df8abddf\n",
            "  Stored in directory: /root/.cache/pip/wheels/c3/34/04/86b0c6c0d3bf5d547542ce1171dfe9e801d65a81c2eb02fe8c\n",
            "  Building wheel for pystoi (setup.py) ... \u001b[?25l\u001b[?25hdone\n",
            "  Created wheel for pystoi: filename=pystoi-0.3.3-py2.py3-none-any.whl size=7793 sha256=63b123211971d2285a62426741c2fc1ecaa4a30e1d3b3ff4e0f6062b43bfb50a\n",
            "  Stored in directory: /root/.cache/pip/wheels/46/4a/ad/3ab460193ed0535430b4b1575f255aa6bae69df17453628e86\n",
            "  Building wheel for librosa (setup.py) ... \u001b[?25l\u001b[?25hdone\n",
            "  Created wheel for librosa: filename=librosa-0.7.1-py3-none-any.whl size=1610169 sha256=5099980a99c3f44e79ed37bef3a9d243be1f3f39b5d366d923c71892cf423614\n",
            "  Stored in directory: /root/.cache/pip/wheels/2f/77/a6/bb2a44a37b740767295b9cbb3c3a4efd1c7ef20061c2e6bbf1\n",
            "  Building wheel for antlr4-python3-runtime (setup.py) ... \u001b[?25l\u001b[?25hdone\n",
            "  Created wheel for antlr4-python3-runtime: filename=antlr4_python3_runtime-4.8-py3-none-any.whl size=141229 sha256=948a221224ed8602993b2ee7f4e8407701cb12b8e79495ee19738f46a9608f76\n",
            "  Stored in directory: /root/.cache/pip/wheels/ca/33/b7/336836125fc9bb4ceaa4376d8abca10ca8bc84ddc824baea6c\n",
            "Successfully built pesq pystoi librosa antlr4-python3-runtime\n",
            "Installing collected packages: numpy, llvmlite, antlr4-python3-runtime, omegaconf, numba, resampy, hydra-core, colorlog, tqdm, torchaudio, pystoi, pesq, librosa, hydra-colorlog\n",
            "  Attempting uninstall: numpy\n",
            "    Found existing installation: numpy 1.21.6\n",
            "    Uninstalling numpy-1.21.6:\n",
            "      Successfully uninstalled numpy-1.21.6\n",
            "  Attempting uninstall: llvmlite\n",
            "    Found existing installation: llvmlite 0.39.1\n",
            "    Uninstalling llvmlite-0.39.1:\n",
            "      Successfully uninstalled llvmlite-0.39.1\n",
            "  Attempting uninstall: numba\n",
            "    Found existing installation: numba 0.56.4\n",
            "    Uninstalling numba-0.56.4:\n",
            "      Successfully uninstalled numba-0.56.4\n",
            "  Attempting uninstall: resampy\n",
            "    Found existing installation: resampy 0.4.2\n",
            "    Uninstalling resampy-0.4.2:\n",
            "      Successfully uninstalled resampy-0.4.2\n",
            "  Attempting uninstall: tqdm\n",
            "    Found existing installation: tqdm 4.64.1\n",
            "    Uninstalling tqdm-4.64.1:\n",
            "      Successfully uninstalled tqdm-4.64.1\n",
            "  Attempting uninstall: torchaudio\n",
            "    Found existing installation: torchaudio 0.12.1+cu113\n",
            "    Uninstalling torchaudio-0.12.1+cu113:\n",
            "      Successfully uninstalled torchaudio-0.12.1+cu113\n",
            "  Attempting uninstall: librosa\n",
            "    Found existing installation: librosa 0.8.1\n",
            "    Uninstalling librosa-0.8.1:\n",
            "      Successfully uninstalled librosa-0.8.1\n",
            "\u001b[31mERROR: pip's dependency resolver does not currently take into account all the packages that are installed. This behaviour is the source of the following dependency conflicts.\n",
            "xarray-einstats 0.2.2 requires numpy>=1.21, but you have numpy 1.19.4 which is incompatible.\n",
            "torchtext 0.13.1 requires torch==1.12.1, but you have torch 1.6.0+cu101 which is incompatible.\n",
            "tensorflow 2.9.2 requires numpy>=1.20, but you have numpy 1.19.4 which is incompatible.\n",
            "kapre 0.3.7 requires librosa>=0.7.2, but you have librosa 0.7.1 which is incompatible.\n",
            "jaxlib 0.3.22+cuda11.cudnn805 requires numpy>=1.20, but you have numpy 1.19.4 which is incompatible.\n",
            "jax 0.3.23 requires numpy>=1.20, but you have numpy 1.19.4 which is incompatible.\n",
            "fastai 2.7.10 requires torch<1.14,>=1.7, but you have torch 1.6.0+cu101 which is incompatible.\n",
            "fastai 2.7.10 requires torchvision>=0.8.2, but you have torchvision 0.7.0+cu101 which is incompatible.\n",
            "cupy-cuda11x 11.0.0 requires numpy<1.26,>=1.20, but you have numpy 1.19.4 which is incompatible.\n",
            "cmdstanpy 1.0.8 requires numpy>=1.21, but you have numpy 1.19.4 which is incompatible.\u001b[0m\n",
            "Successfully installed antlr4-python3-runtime-4.8 colorlog-6.7.0 hydra-colorlog-1.0.0 hydra-core-1.0.3 librosa-0.7.1 llvmlite-0.31.0 numba-0.48.0 numpy-1.19.4 omegaconf-2.1.2 pesq-0.0.2 pystoi-0.3.3 resampy-0.3.1 torchaudio-0.6.0 tqdm-4.51.0\n"
          ]
        },
        {
          "output_type": "display_data",
          "data": {
            "application/vnd.colab-display-data+json": {
              "pip_warning": {
                "packages": [
                  "numpy",
                  "pydevd_plugins"
                ]
              }
            }
          },
          "metadata": {}
        }
      ]
    },
    {
      "cell_type": "code",
      "source": [
        "!pip install --upgrade numpy"
      ],
      "metadata": {
        "colab": {
          "base_uri": "https://localhost:8080/",
          "height": 401
        },
        "id": "CnV0PNu3zhi6",
        "outputId": "f6660377-07ba-45d7-f161-3296db6ed2e2"
      },
      "execution_count": null,
      "outputs": [
        {
          "output_type": "stream",
          "name": "stdout",
          "text": [
            "Looking in indexes: https://pypi.org/simple, https://us-python.pkg.dev/colab-wheels/public/simple/\n",
            "Requirement already satisfied: numpy in /usr/local/lib/python3.7/dist-packages (1.19.4)\n",
            "Collecting numpy\n",
            "  Downloading numpy-1.21.6-cp37-cp37m-manylinux_2_12_x86_64.manylinux2010_x86_64.whl (15.7 MB)\n",
            "\u001b[K     |████████████████████████████████| 15.7 MB 31.5 MB/s \n",
            "\u001b[?25hInstalling collected packages: numpy\n",
            "  Attempting uninstall: numpy\n",
            "    Found existing installation: numpy 1.19.4\n",
            "    Uninstalling numpy-1.19.4:\n",
            "      Successfully uninstalled numpy-1.19.4\n",
            "\u001b[31mERROR: pip's dependency resolver does not currently take into account all the packages that are installed. This behaviour is the source of the following dependency conflicts.\n",
            "torchtext 0.13.1 requires torch==1.12.1, but you have torch 1.6.0+cu101 which is incompatible.\n",
            "kapre 0.3.7 requires librosa>=0.7.2, but you have librosa 0.7.1 which is incompatible.\n",
            "fastai 2.7.10 requires torch<1.14,>=1.7, but you have torch 1.6.0+cu101 which is incompatible.\n",
            "fastai 2.7.10 requires torchvision>=0.8.2, but you have torchvision 0.7.0+cu101 which is incompatible.\u001b[0m\n",
            "Successfully installed numpy-1.21.6\n"
          ]
        },
        {
          "output_type": "display_data",
          "data": {
            "application/vnd.colab-display-data+json": {
              "pip_warning": {
                "packages": [
                  "numpy"
                ]
              }
            }
          },
          "metadata": {}
        }
      ]
    },
    {
      "cell_type": "code",
      "source": [
        "from google.colab import drive\n",
        "drive.mount('/content/drive')"
      ],
      "metadata": {
        "colab": {
          "base_uri": "https://localhost:8080/"
        },
        "id": "HsLM05PfzPkt",
        "outputId": "07f30187-6281-43bc-fc01-06d07e816108"
      },
      "execution_count": null,
      "outputs": [
        {
          "output_type": "stream",
          "name": "stdout",
          "text": [
            "Mounted at /content/drive\n"
          ]
        }
      ]
    },
    {
      "cell_type": "code",
      "source": [
        "out=\"/content/svoice/egs/mydataset/tr\"\n",
        "!mkdir -p $out"
      ],
      "metadata": {
        "id": "jQZxKSIjGJcZ"
      },
      "execution_count": null,
      "outputs": []
    },
    {
      "cell_type": "code",
      "source": [
        "!python -m svoice.data.audio \"/content/drive/MyDrive/LibriMix/MiniLibriMix/MiniLibriMix/train/mix_both\" > $out/mix.json\n",
        "!python -m svoice.data.audio \"/content/drive/MyDrive/LibriMix/MiniLibriMix/MiniLibriMix/train/s1\" > $out/s1.json\n",
        "!python -m svoice.data.audio \"/content/drive/MyDrive/LibriMix/MiniLibriMix/MiniLibriMix/train/s2\" > $out/s2.json\n",
        "!python -m svoice.data.audio \"/content/drive/MyDrive/LibriMix/MiniLibriMix/MiniLibriMix/train/noise\" > $out/s3.json"
      ],
      "metadata": {
        "id": "r83BwhIiBPzI",
        "colab": {
          "base_uri": "https://localhost:8080/"
        },
        "outputId": "4aadd63d-65da-4cf9-a169-a19254511e20"
      },
      "execution_count": null,
      "outputs": [
        {
          "output_type": "stream",
          "name": "stdout",
          "text": [
            "100%|████████████████████████████████████████| 800/800 [00:00<00:00, 991.42it/s]\n",
            "100%|████████████████████████████████████████| 800/800 [00:00<00:00, 990.36it/s]\n",
            "100%|███████████████████████████████████████| 800/800 [00:00<00:00, 1000.29it/s]\n",
            "100%|████████████████████████████████████████| 800/800 [00:01<00:00, 712.17it/s]\n"
          ]
        }
      ]
    },
    {
      "cell_type": "code",
      "source": [
        "out=\"/content/svoice/egs/mydataset/val\"\n",
        "!mkdir -p $out"
      ],
      "metadata": {
        "id": "UK6VMLvP1ETT"
      },
      "execution_count": null,
      "outputs": []
    },
    {
      "cell_type": "code",
      "source": [
        "!python -m svoice.data.audio \"/content/drive/MyDrive/LibriMix/MiniLibriMix/MiniLibriMix/val/mix_both\" > $out/mix.json\n",
        "!python -m svoice.data.audio \"/content/drive/MyDrive/LibriMix/MiniLibriMix/MiniLibriMix/val/s1\" > $out/s1.json\n",
        "!python -m svoice.data.audio \"/content/drive/MyDrive/LibriMix/MiniLibriMix/MiniLibriMix/val/s2\" > $out/s2.json\n",
        "!python -m svoice.data.audio \"/content/drive/MyDrive/LibriMix/MiniLibriMix/MiniLibriMix/val/noise\" > $out/s3.json"
      ],
      "metadata": {
        "colab": {
          "base_uri": "https://localhost:8080/"
        },
        "id": "YFkJJM_K1AjT",
        "outputId": "718582c7-2c00-43ce-d132-2259f88c9261"
      },
      "execution_count": null,
      "outputs": [
        {
          "output_type": "stream",
          "name": "stdout",
          "text": [
            "100%|███████████████████████████████████████| 200/200 [00:00<00:00, 1076.18it/s]\n",
            "100%|████████████████████████████████████████| 200/200 [00:00<00:00, 999.02it/s]\n",
            "100%|███████████████████████████████████████| 200/200 [00:00<00:00, 1006.91it/s]\n",
            "100%|████████████████████████████████████████| 200/200 [00:00<00:00, 646.35it/s]\n"
          ]
        }
      ]
    },
    {
      "cell_type": "code",
      "source": [
        "out=\"/content/svoice/egs/mydataset/test\"\n",
        "!mkdir -p $out"
      ],
      "metadata": {
        "id": "Pvn9TCoG1PDb"
      },
      "execution_count": null,
      "outputs": []
    },
    {
      "cell_type": "code",
      "source": [
        "!python -m svoice.data.audio \"/content/drive/MyDrive/LibriMix/MiniLibriMix/MiniLibriMix/val/mix_both\" > $out/mix.json\n",
        "!python -m svoice.data.audio \"/content/drive/MyDrive/LibriMix/MiniLibriMix/MiniLibriMix/val/s1\" > $out/s1.json\n",
        "!python -m svoice.data.audio \"/content/drive/MyDrive/LibriMix/MiniLibriMix/MiniLibriMix/val/s2\" > $out/s2.json\n",
        "!python -m svoice.data.audio \"/content/drive/MyDrive/LibriMix/MiniLibriMix/MiniLibriMix/val/noise\" > $out/s3.json"
      ],
      "metadata": {
        "colab": {
          "base_uri": "https://localhost:8080/"
        },
        "id": "IW6r6R2K1Oi7",
        "outputId": "daa018f2-0263-4c55-d60b-6d4a31556a49"
      },
      "execution_count": null,
      "outputs": [
        {
          "output_type": "stream",
          "name": "stdout",
          "text": [
            "100%|████████████████████████████████████████| 200/200 [00:00<00:00, 962.85it/s]\n",
            "100%|███████████████████████████████████████| 200/200 [00:00<00:00, 1049.94it/s]\n",
            "100%|███████████████████████████████████████| 200/200 [00:00<00:00, 1008.45it/s]\n",
            "100%|███████████████████████████████████████| 200/200 [00:00<00:00, 1020.25it/s]\n"
          ]
        }
      ]
    },
    {
      "cell_type": "markdown",
      "source": [
        "## Needed: generate mydataset.yaml\n"
      ],
      "metadata": {
        "id": "P5qQONCVy23d"
      }
    },
    {
      "cell_type": "markdown",
      "source": [
        "\n",
        "train: egs/mydataset/tr \\\\\n",
        "valid: egs/mydataset/val \\\\\n",
        "test: egs/mydataset/test \\\\\n",
        "mix_json: egs/mydataset/tr/mix.json \\\\\n",
        "mix_dir:"
      ],
      "metadata": {
        "id": "_QfLwSU6G5_P"
      }
    },
    {
      "cell_type": "code",
      "source": [
        "!python train.py dset=mydataset"
      ],
      "metadata": {
        "colab": {
          "base_uri": "https://localhost:8080/"
        },
        "id": "LT7MUsbvGgSK",
        "outputId": "fa72d030-4f8a-4b8b-f81d-e78088f41471"
      },
      "execution_count": null,
      "outputs": [
        {
          "output_type": "stream",
          "name": "stdout",
          "text": [
            "/usr/local/lib/python3.7/dist-packages/hydra/core/utils.py:143: UserWarning: register_resolver() is deprecated.\n",
            "See https://github.com/omry/omegaconf/issues/426 for migration instructions.\n",
            "\n",
            "  OmegaConf.register_resolver(name, f)\n",
            "[\u001b[36m2022-11-21 16:09:59,686\u001b[0m][\u001b[34m__main__\u001b[0m][\u001b[32mINFO\u001b[0m] - For logs, checkpoints and samples check /content/svoice/outputs/exp_dset=mydataset\u001b[0m\n",
            "[\u001b[36m2022-11-21 16:10:08,916\u001b[0m][\u001b[34m__main__\u001b[0m][\u001b[32mINFO\u001b[0m] - Running on host d0c283f98c4f\u001b[0m\n",
            "[\u001b[36m2022-11-21 16:10:11,967\u001b[0m][\u001b[34msvoice.solver\u001b[0m][\u001b[32mINFO\u001b[0m] - ----------------------------------------------------------------------\u001b[0m\n",
            "[\u001b[36m2022-11-21 16:10:11,967\u001b[0m][\u001b[34msvoice.solver\u001b[0m][\u001b[32mINFO\u001b[0m] - Training...\u001b[0m\n",
            "[W TensorIterator.cpp:918] Warning: Mixed memory format inputs detected while calling the operator. The operator will output contiguous tensor even if some of the inputs are in channels_last format. (function operator())\n",
            "[\u001b[36m2022-11-21 16:21:09,827\u001b[0m][\u001b[34msvoice.solver\u001b[0m][\u001b[32mINFO\u001b[0m] - Train | Epoch 1 | 672/3364 | 1.0 it/sec | Loss 1.14500\u001b[0m\n",
            "[\u001b[36m2022-11-21 16:32:10,337\u001b[0m][\u001b[34msvoice.solver\u001b[0m][\u001b[32mINFO\u001b[0m] - Train | Epoch 1 | 1344/3364 | 1.0 it/sec | Loss 0.76675\u001b[0m\n",
            "[\u001b[36m2022-11-21 16:43:10,781\u001b[0m][\u001b[34msvoice.solver\u001b[0m][\u001b[32mINFO\u001b[0m] - Train | Epoch 1 | 2016/3364 | 1.0 it/sec | Loss 0.54264\u001b[0m\n",
            "[\u001b[36m2022-11-21 16:54:11,545\u001b[0m][\u001b[34msvoice.solver\u001b[0m][\u001b[32mINFO\u001b[0m] - Train | Epoch 1 | 2688/3364 | 1.0 it/sec | Loss 0.38440\u001b[0m\n"
          ]
        }
      ]
    },
    {
      "cell_type": "code",
      "source": [
        "out=\"/content/output\"\n",
        "!mkdir -p $out"
      ],
      "metadata": {
        "id": "whydM-qPJcDN"
      },
      "execution_count": null,
      "outputs": []
    },
    {
      "cell_type": "code",
      "source": [
        "!python -m svoice.separate \"/content/svoice/outputs/exp_dset=mydataset/checkpoint.th\" \"/content/output\" --mix_dir=\"/content/drive/MyDrive/LibriMix/Data_200_files/test/mix\""
      ],
      "metadata": {
        "colab": {
          "base_uri": "https://localhost:8080/"
        },
        "id": "cUvEwOHXIX7k",
        "outputId": "ccfc78c1-d89a-4089-ce74-c45a1215ad04"
      },
      "execution_count": null,
      "outputs": [
        {
          "output_type": "stream",
          "name": "stdout",
          "text": [
            "100% 6/6 [00:00<00:00, 329.97it/s]\n",
            "100%|█████████████████████████████████████████████████████████████████████████████████████| 6/6 [00:00<00:00,  6.26it/s]\n"
          ]
        }
      ]
    }
  ]
}